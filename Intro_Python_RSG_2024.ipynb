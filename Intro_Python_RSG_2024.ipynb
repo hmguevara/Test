{
  "nbformat": 4,
  "nbformat_minor": 0,
  "metadata": {
    "colab": {
      "provenance": [],
      "include_colab_link": true
    },
    "kernelspec": {
      "name": "python3",
      "display_name": "Python 3"
    },
    "language_info": {
      "name": "python"
    }
  },
  "cells": [
    {
      "cell_type": "markdown",
      "metadata": {
        "id": "view-in-github",
        "colab_type": "text"
      },
      "source": [
        "<a href=\"https://colab.research.google.com/github/hmguevara/Test/blob/main/Intro_Python_RSG_2024.ipynb\" target=\"_parent\"><img src=\"https://colab.research.google.com/assets/colab-badge.svg\" alt=\"Open In Colab\"/></a>"
      ]
    },
    {
      "cell_type": "markdown",
      "source": [
        "![rsg_logo.png](data:image/png;base64,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)"
      ],
      "metadata": {
        "id": "UtMthEgc3BFh"
      }
    },
    {
      "cell_type": "markdown",
      "source": [
        "\n",
        "---\n",
        "\n",
        "\n",
        "# **💻 Introducción a Python**\n",
        "*🧬RSG Argentina*\n",
        "\n",
        "\n",
        "---\n",
        "\n",
        "\n",
        "\n",
        "\n",
        "\n",
        "\n",
        "\n",
        "\n",
        "\n",
        "\n"
      ],
      "metadata": {
        "id": "iXQ-qbdK4ZAn"
      }
    },
    {
      "cell_type": "markdown",
      "source": [
        "**▶ Este cuaderno contiene los siguientes temas:**\n",
        "01.\t🔵 Variables y tipos de datos\n",
        "02.\t🔵 Datos de entrada\n",
        "03.\t🔵 Datos de salida\n",
        "04.\t🔵 Operadores\n",
        "    1. 🔷 Operadores aritmeticos\n",
        "    2. 🔷 Operadores relacionales\n",
        "    3. 🔷 Operadores lógicos\n",
        "        1. 🔹 AND\n",
        "        2. 🔹 OR\n",
        "        3. 🔹 NOT\n",
        "05.\t🔵 Estructura de decisión (IF)\n",
        "06.\t🔵 Estructura de repetición (FOR)\n",
        "07. 🔵 Manipulación de cadenas\n"
      ],
      "metadata": {
        "id": "boCmhL2b1MmB"
      }
    },
    {
      "cell_type": "markdown",
      "source": [
        "\n",
        "\n",
        "---\n",
        "\n"
      ],
      "metadata": {
        "id": "lKDS-5U84mA5"
      }
    },
    {
      "cell_type": "markdown",
      "source": [
        "## ▶ **Variables y tipos de datos**"
      ],
      "metadata": {
        "id": "FQB_U3gmQpHs"
      }
    },
    {
      "cell_type": "code",
      "source": [
        "genes = 4  # int\n",
        "temp = 25.6  # float\n",
        "saludo = \"hello\" # str\n",
        "is_stable = True # bool\n",
        "genes = 5 # int\n",
        "\n",
        "# los nombres de las variables no pueden tener espacios, ni guiones medios, ni caracteres especiales"
      ],
      "metadata": {
        "id": "3PsiVG1DQvYG"
      },
      "execution_count": null,
      "outputs": []
    },
    {
      "cell_type": "markdown",
      "source": [
        "## ▶ **Datos de entrada**"
      ],
      "metadata": {
        "id": "Yuh93mD9QbnM"
      }
    },
    {
      "cell_type": "code",
      "source": [
        "nombre = input(\"Ingrese su nombre: \")"
      ],
      "metadata": {
        "colab": {
          "base_uri": "https://localhost:8080/"
        },
        "id": "Kr_7-DNJzqPQ",
        "outputId": "d7cf5a96-c782-4aaf-87d7-c354fc4eed36"
      },
      "execution_count": null,
      "outputs": [
        {
          "name": "stdout",
          "output_type": "stream",
          "text": [
            "Ingrese su nombre: Juan\n"
          ]
        }
      ]
    },
    {
      "cell_type": "code",
      "source": [
        "type(nombre)"
      ],
      "metadata": {
        "colab": {
          "base_uri": "https://localhost:8080/"
        },
        "id": "Ua11mPRKhJEG",
        "outputId": "7b1a9c22-5403-4e31-feb6-fa01eb4fcda3"
      },
      "execution_count": null,
      "outputs": [
        {
          "output_type": "execute_result",
          "data": {
            "text/plain": [
              "str"
            ]
          },
          "metadata": {},
          "execution_count": 10
        }
      ]
    },
    {
      "cell_type": "code",
      "source": [
        "edad = int(input(\"Ingrese su edad: \"))"
      ],
      "metadata": {
        "colab": {
          "base_uri": "https://localhost:8080/"
        },
        "id": "umLRNw_Vzttf",
        "outputId": "f25b99c8-d926-4dcd-b0eb-9ca96819c362"
      },
      "execution_count": null,
      "outputs": [
        {
          "name": "stdout",
          "output_type": "stream",
          "text": [
            "Ingrese su edad: 60\n"
          ]
        }
      ]
    },
    {
      "cell_type": "code",
      "source": [
        "type(edad)"
      ],
      "metadata": {
        "colab": {
          "base_uri": "https://localhost:8080/"
        },
        "id": "Pgevy-8Ahmzs",
        "outputId": "fce52f74-ba44-450e-e6c1-28a71790ebd4"
      },
      "execution_count": null,
      "outputs": [
        {
          "output_type": "execute_result",
          "data": {
            "text/plain": [
              "int"
            ]
          },
          "metadata": {},
          "execution_count": 28
        }
      ]
    },
    {
      "cell_type": "code",
      "source": [
        "temp = float(input(\"Ingrese la temperatura: \"))"
      ],
      "metadata": {
        "colab": {
          "base_uri": "https://localhost:8080/"
        },
        "id": "6Q2KqXc2QjzJ",
        "outputId": "df7086e2-aa3d-4310-8721-c9e7c258e3ea"
      },
      "execution_count": null,
      "outputs": [
        {
          "name": "stdout",
          "output_type": "stream",
          "text": [
            "Ingrese la temperatura: 28.5\n"
          ]
        }
      ]
    },
    {
      "cell_type": "markdown",
      "source": [
        "## ▶ **Datos de salida**"
      ],
      "metadata": {
        "id": "021kZRseQi73"
      }
    },
    {
      "cell_type": "code",
      "source": [
        "print(\"Hola mundo!\")"
      ],
      "metadata": {
        "colab": {
          "base_uri": "https://localhost:8080/"
        },
        "id": "1AYCrvTWzNLj",
        "outputId": "c63f9929-caa6-4a86-9802-6c33d5d07f7d"
      },
      "execution_count": null,
      "outputs": [
        {
          "output_type": "stream",
          "name": "stdout",
          "text": [
            "Hola mundo!\n"
          ]
        }
      ]
    },
    {
      "cell_type": "code",
      "source": [
        "saludo = \"Hola mundo!\"\n",
        "print(saludo)"
      ],
      "metadata": {
        "colab": {
          "base_uri": "https://localhost:8080/"
        },
        "id": "q_Olj4HOzR2B",
        "outputId": "d8f0800b-f54f-4113-bf11-9d9fc5f8c252"
      },
      "execution_count": null,
      "outputs": [
        {
          "output_type": "stream",
          "name": "stdout",
          "text": [
            "Hola mundo!\n"
          ]
        }
      ]
    },
    {
      "cell_type": "code",
      "source": [
        "# ENTRADA DE DATOS\n",
        "temp = float(input(\"Ingrese la temperatura: \"))\n",
        "\n",
        "# SALIDA DE DATOS\n",
        "print(\"La temperatura es: \", temp)\n",
        "print(\"La temperatura es: \", temp, \"°C\")"
      ],
      "metadata": {
        "colab": {
          "base_uri": "https://localhost:8080/"
        },
        "id": "YCLTXj3u0GHV",
        "outputId": "b5d616ad-ee74-4163-d7c9-a7919545a13c"
      },
      "execution_count": null,
      "outputs": [
        {
          "output_type": "stream",
          "name": "stdout",
          "text": [
            "Ingrese la temperatura: 28.5\n",
            "La temperatura es:  28.5\n",
            "La temperatura es:  28.5 °C\n"
          ]
        }
      ]
    },
    {
      "cell_type": "markdown",
      "source": [
        "## ▶ **Operadores**"
      ],
      "metadata": {
        "id": "1ZpE21t4O8wY"
      }
    },
    {
      "cell_type": "markdown",
      "source": [
        "🟠 **Operadores aritméticos**"
      ],
      "metadata": {
        "id": "VtYx6RbVPX7-"
      }
    },
    {
      "cell_type": "code",
      "source": [
        "calculo = (200 + 300 + 500) * 2\n",
        "print(calculo)"
      ],
      "metadata": {
        "colab": {
          "base_uri": "https://localhost:8080/"
        },
        "id": "5CrJBhlgQkvQ",
        "outputId": "5489db65-b3cd-4a14-88c4-0acade43bb40"
      },
      "execution_count": null,
      "outputs": [
        {
          "output_type": "stream",
          "name": "stdout",
          "text": [
            "2000\n"
          ]
        }
      ]
    },
    {
      "cell_type": "code",
      "source": [
        "temp_actual = 25.6\n",
        "\n",
        "# ENTRADA DE DATOS\n",
        "temp_incremento = float(input(\"Ingrese el incremento de temperatura: \"))\n",
        "\n",
        "# ALGORITMO\n",
        "nueva_temperatura = temp_actual + temp_incremento\n",
        "\n",
        "# SALIDA DE DATOS\n",
        "print(nueva_temperatura)"
      ],
      "metadata": {
        "colab": {
          "base_uri": "https://localhost:8080/"
        },
        "id": "vLENLg4fz_Z6",
        "outputId": "58016ae1-1a42-4300-e52d-1213179ac5c5"
      },
      "execution_count": null,
      "outputs": [
        {
          "output_type": "stream",
          "name": "stdout",
          "text": [
            "Ingrese el incremento de temperatura: 23.7\n",
            "49.3\n"
          ]
        }
      ]
    },
    {
      "cell_type": "markdown",
      "source": [
        "🔵 **Operadores relacionales**\n",
        "\n",
        "Cuando usamos estos operadores estamos hablando de **expresiones lógicas** cuyo resultado siempre nos devuelve un **True** o un **False**"
      ],
      "metadata": {
        "id": "PI4c3SvrQEcL"
      }
    },
    {
      "cell_type": "code",
      "source": [
        "print(21 >= 18)"
      ],
      "metadata": {
        "colab": {
          "base_uri": "https://localhost:8080/"
        },
        "id": "qde_aZqdQlG0",
        "outputId": "71329e14-e64b-491e-9b4a-73edbe35cb03"
      },
      "execution_count": null,
      "outputs": [
        {
          "output_type": "stream",
          "name": "stdout",
          "text": [
            "True\n"
          ]
        }
      ]
    },
    {
      "cell_type": "code",
      "source": [
        "edad = 10\n",
        "print(edad > 18)"
      ],
      "metadata": {
        "colab": {
          "base_uri": "https://localhost:8080/"
        },
        "id": "T_DAoz_yR7WC",
        "outputId": "10e0bc6a-b26d-47ba-95ab-bde508722cd3"
      },
      "execution_count": null,
      "outputs": [
        {
          "output_type": "stream",
          "name": "stdout",
          "text": [
            "False\n"
          ]
        }
      ]
    },
    {
      "cell_type": "code",
      "source": [
        "print(edad == 10)"
      ],
      "metadata": {
        "colab": {
          "base_uri": "https://localhost:8080/"
        },
        "id": "01-fmUV9XxF4",
        "outputId": "284544ff-7883-44c3-e318-5c9aca504c3d"
      },
      "execution_count": null,
      "outputs": [
        {
          "output_type": "stream",
          "name": "stdout",
          "text": [
            "True\n"
          ]
        }
      ]
    },
    {
      "cell_type": "code",
      "source": [
        "print(\"GATGGACATCGACCGATATGCCGTGTACTAA\" == \"ACAGAAAGTTAATGGATGGACATAAAAATCA\")"
      ],
      "metadata": {
        "colab": {
          "base_uri": "https://localhost:8080/"
        },
        "id": "zmwpsTU_HBra",
        "outputId": "577f810b-8b59-4683-e7a8-25cd0665fc54"
      },
      "execution_count": null,
      "outputs": [
        {
          "output_type": "stream",
          "name": "stdout",
          "text": [
            "False\n"
          ]
        }
      ]
    },
    {
      "cell_type": "code",
      "source": [
        "es_adulto = edad > 18\n",
        "print(\"La persona es mayor de edad: \", es_adulto)"
      ],
      "metadata": {
        "colab": {
          "base_uri": "https://localhost:8080/"
        },
        "id": "i5896c3kXoo5",
        "outputId": "1e188f7e-540c-46f0-b26f-ca2a93bcceaf"
      },
      "execution_count": null,
      "outputs": [
        {
          "output_type": "stream",
          "name": "stdout",
          "text": [
            "La persona es mayor de edad:  False\n"
          ]
        }
      ]
    },
    {
      "cell_type": "code",
      "source": [
        "es_menor_30 = edad < 30\n",
        "print(\"La persona es menor de 30: \", es_menor_30)"
      ],
      "metadata": {
        "colab": {
          "base_uri": "https://localhost:8080/"
        },
        "id": "R1q5Y1OlXl5f",
        "outputId": "5df6aea2-0157-4d5b-c5d8-3c671c24d888"
      },
      "execution_count": null,
      "outputs": [
        {
          "output_type": "stream",
          "name": "stdout",
          "text": [
            "La persona es menor de 30:  True\n"
          ]
        }
      ]
    },
    {
      "cell_type": "markdown",
      "source": [
        "🟡 **Operadores lógicos**"
      ],
      "metadata": {
        "id": "m90R8IgXQJai"
      }
    },
    {
      "cell_type": "markdown",
      "source": [
        "**AND**"
      ],
      "metadata": {
        "id": "2FPhSmj5YYA6"
      }
    },
    {
      "cell_type": "code",
      "source": [
        "edad = int(input(\"Ingrese su edad: \"))\n",
        "es_adulto = edad >= 18\n",
        "es_menor_30 = edad < 30\n",
        "print(es_adulto and es_menor_30)"
      ],
      "metadata": {
        "colab": {
          "base_uri": "https://localhost:8080/"
        },
        "id": "MOseW-4aQlfi",
        "outputId": "ed296e8f-b73e-439c-b93f-8e1a522da7df"
      },
      "execution_count": null,
      "outputs": [
        {
          "output_type": "stream",
          "name": "stdout",
          "text": [
            "Ingrese su edad: 19\n",
            "True\n"
          ]
        }
      ]
    },
    {
      "cell_type": "code",
      "source": [
        "edad = int(input(\"Ingrese su edad: \"))\n",
        "\n",
        "resultado = edad > 18 and edad < 30\n",
        "\n",
        "print(\"La persona es apta para otorgarle la beca: \", resultado)"
      ],
      "metadata": {
        "colab": {
          "base_uri": "https://localhost:8080/"
        },
        "id": "PTBRgmjWWFKo",
        "outputId": "a711134f-9187-497c-e892-b5f7ee598275"
      },
      "execution_count": null,
      "outputs": [
        {
          "output_type": "stream",
          "name": "stdout",
          "text": [
            "Ingrese su edad: 25\n",
            "La persona es apta para otorgarle la beca:  True\n"
          ]
        }
      ]
    },
    {
      "cell_type": "markdown",
      "source": [
        "**OR**"
      ],
      "metadata": {
        "id": "adMUMz4sYaZp"
      }
    },
    {
      "cell_type": "code",
      "source": [
        "edad = int(input(\"Ingrese su edad: \"))\n",
        "descuento = edad < 18 or edad > 65\n",
        "print(\"Califica para un descuento?\", descuento)"
      ],
      "metadata": {
        "colab": {
          "base_uri": "https://localhost:8080/"
        },
        "id": "qHgHqGufZQFe",
        "outputId": "15ed9990-f84a-4e9a-8057-eccfc59c91ad"
      },
      "execution_count": null,
      "outputs": [
        {
          "output_type": "stream",
          "name": "stdout",
          "text": [
            "Ingrese su edad: 25\n",
            "Califica para un descuento? False\n"
          ]
        }
      ]
    },
    {
      "cell_type": "code",
      "source": [
        "edad = int(input(\"Ingrese su edad: \"))\n",
        "region = input(\"Ingrese su región (Norte/Sur/Este/Oeste): \")\n",
        "\n",
        "es_apto = edad < 25 or region == \"Norte\"\n",
        "\n",
        "print(\"¿La persona es apta para otorgarle la beca?:\", es_apto)"
      ],
      "metadata": {
        "colab": {
          "base_uri": "https://localhost:8080/"
        },
        "id": "YPuKsx9IYdWF",
        "outputId": "2db04857-3e95-4f8e-9bec-76a2a3753a96"
      },
      "execution_count": null,
      "outputs": [
        {
          "output_type": "stream",
          "name": "stdout",
          "text": [
            "Ingrese su edad: 72\n",
            "Ingrese su región (Norte/Sur/Este/Oeste): Norte\n",
            "¿La persona es apta para otorgarle la beca?: True\n"
          ]
        }
      ]
    },
    {
      "cell_type": "markdown",
      "source": [
        "**NOT**"
      ],
      "metadata": {
        "id": "Lw0qqekHcDTz"
      }
    },
    {
      "cell_type": "code",
      "source": [
        "print(not True)"
      ],
      "metadata": {
        "colab": {
          "base_uri": "https://localhost:8080/"
        },
        "id": "6PNS153-cEmi",
        "outputId": "d011ccc4-8809-44be-9eeb-d8518aa4fd24"
      },
      "execution_count": null,
      "outputs": [
        {
          "output_type": "stream",
          "name": "stdout",
          "text": [
            "False\n"
          ]
        }
      ]
    },
    {
      "cell_type": "code",
      "source": [
        "print(not False)"
      ],
      "metadata": {
        "colab": {
          "base_uri": "https://localhost:8080/"
        },
        "id": "LaEQ4NGccLQU",
        "outputId": "90c82b26-5260-4577-d116-af83b2fa5256"
      },
      "execution_count": null,
      "outputs": [
        {
          "output_type": "stream",
          "name": "stdout",
          "text": [
            "True\n"
          ]
        }
      ]
    },
    {
      "cell_type": "code",
      "source": [
        "edad = 15\n",
        "condicion = not(edad > 18)\n",
        "print(condicion)"
      ],
      "metadata": {
        "colab": {
          "base_uri": "https://localhost:8080/"
        },
        "id": "EOzRpvKBcRqY",
        "outputId": "3690fe6d-3707-44ff-d0b4-6f787352b5c9"
      },
      "execution_count": null,
      "outputs": [
        {
          "output_type": "stream",
          "name": "stdout",
          "text": [
            "True\n"
          ]
        }
      ]
    },
    {
      "cell_type": "markdown",
      "source": [
        "Se pueden hacer combinaciones de todos los operadores!"
      ],
      "metadata": {
        "id": "5SwQqG7QeDm0"
      }
    },
    {
      "cell_type": "code",
      "source": [
        "edad = int(input(\"Ingrese su edad: \"))\n",
        "region = input(\"Ingrese su región (Norte/Sur/Este/Oeste): \")\n",
        "\n",
        "resultado = (edad >= 18 and edad < 30) or (region == \"Norte\")\n",
        "\n",
        "print(\"La persona es apta para otorgarle la beca: \", resultado)"
      ],
      "metadata": {
        "colab": {
          "base_uri": "https://localhost:8080/"
        },
        "id": "hmLN7d3geDG1",
        "outputId": "0b76e603-832e-41ee-fb67-ce48d081fb6c"
      },
      "execution_count": null,
      "outputs": [
        {
          "output_type": "stream",
          "name": "stdout",
          "text": [
            "Ingrese su edad: 76\n",
            "Ingrese su región (Norte/Sur/Este/Oeste): Norte\n",
            "La persona es apta para otorgarle la beca:  True\n"
          ]
        }
      ]
    },
    {
      "cell_type": "markdown",
      "source": [
        "## ▶ **Estructura de decisión IF**"
      ],
      "metadata": {
        "id": "1YBYeJYXgEEv"
      }
    },
    {
      "cell_type": "markdown",
      "source": [
        "**IF .. ELSE**"
      ],
      "metadata": {
        "id": "F-Vz7DCGE30l"
      }
    },
    {
      "cell_type": "code",
      "source": [
        "edad = int(input(\"Ingrese su edad: \"))\n",
        "region = input(\"Ingrese su región (Norte/Sur/Este/Oeste): \")\n",
        "\n",
        "resultado = (edad >= 18 and edad < 30) or (region == \"Norte\")\n",
        "\n",
        "if resultado:\n",
        "   print(\"Felicitaciones! Ganaste la beca!\")\n",
        "else:\n",
        "   print(\"No cumple con los requisitos :(\")"
      ],
      "metadata": {
        "colab": {
          "base_uri": "https://localhost:8080/"
        },
        "id": "4NRd-CVbgDbr",
        "outputId": "9a8ff7f5-06c1-4151-f93b-5a288dd0f407"
      },
      "execution_count": null,
      "outputs": [
        {
          "output_type": "stream",
          "name": "stdout",
          "text": [
            "Ingrese su edad: 30\n",
            "Ingrese su región (Norte/Sur/Este/Oeste): Norte\n",
            "Felicitaciones! Ganaste la beca!\n"
          ]
        }
      ]
    },
    {
      "cell_type": "markdown",
      "source": [
        "**IF ... ELIF**"
      ],
      "metadata": {
        "id": "KUS345pYE6D7"
      }
    },
    {
      "cell_type": "code",
      "source": [
        "edad = int(input(\"Ingrese su edad: \"))\n",
        "if edad <= 18:\n",
        "   print(\"La persona tiene 18 anios\")\n",
        "elif edad > 30:\n",
        "   print(\"La persona es mayor a 30 anios\")\n",
        "else:\n",
        "  print(\"La persona tiene entre 18 y 30 anios\")"
      ],
      "metadata": {
        "colab": {
          "base_uri": "https://localhost:8080/"
        },
        "id": "E2RrLiy6yg27",
        "outputId": "1df395ca-3fe4-4dbd-8447-932c9438427d"
      },
      "execution_count": null,
      "outputs": [
        {
          "output_type": "stream",
          "name": "stdout",
          "text": [
            "Ingrese su edad: 25\n",
            "La persona tiene entre 18 y 30 anios\n"
          ]
        }
      ]
    },
    {
      "cell_type": "markdown",
      "source": [
        "**IF ... ELSE con IN**\n",
        "\n",
        "Utilizo la palabra **in** para conocer si un texto se encuentra dentro de una cadena."
      ],
      "metadata": {
        "id": "S_jT5nIyFBUU"
      }
    },
    {
      "cell_type": "code",
      "source": [
        "sec = \"ACAGAAAGTTAATGGAAGGACATAAAAGTTATATCA\"\n",
        "\n",
        "if \"GGATGG\" in sec:\n",
        "  print(\"El fragmento pertenece a la secuencia\")\n",
        "else:\n",
        "  print(\"No pertenece\")"
      ],
      "metadata": {
        "colab": {
          "base_uri": "https://localhost:8080/"
        },
        "id": "k0nYIAaXFFa5",
        "outputId": "796b1a0a-dae8-4f46-ba25-51a44e6d0b91"
      },
      "execution_count": null,
      "outputs": [
        {
          "output_type": "stream",
          "name": "stdout",
          "text": [
            "No pertenece\n"
          ]
        }
      ]
    },
    {
      "cell_type": "code",
      "source": [
        "sec_1 = \"GATGGACATCGACCGATATGCCGTGTACTAA\"\n",
        "sec_2 = \"ACAGAAAGTTAATGGATGGACATAAAAATCA\"\n",
        "\n",
        "if (\"GGATGG\" in sec_1) or (\"GGATGG\" in sec_2):\n",
        "  print(\"El fragmento pertenece a al menos una secuencia\") # podría ser un and?\n",
        "else:\n",
        "  print(\"No pertenece\")"
      ],
      "metadata": {
        "colab": {
          "base_uri": "https://localhost:8080/"
        },
        "id": "cCUi-sVBFx6X",
        "outputId": "ec0857e0-5d05-451e-aac7-b08cebea0eb2"
      },
      "execution_count": null,
      "outputs": [
        {
          "output_type": "stream",
          "name": "stdout",
          "text": [
            "El fragmento pertenece a al menos una secuencia\n"
          ]
        }
      ]
    },
    {
      "cell_type": "markdown",
      "source": [
        "## ▶ **Estructura de repetición FOR**\n",
        "\n",
        "Es una estructura de control que utilizaremos para repetir un conjunto de instrucciones un número finito y conocido de veces."
      ],
      "metadata": {
        "id": "ZJTVaD4iy67x"
      }
    },
    {
      "cell_type": "code",
      "source": [
        "print(list(range(4)))"
      ],
      "metadata": {
        "colab": {
          "base_uri": "https://localhost:8080/"
        },
        "id": "uf0Lrzg0J_BF",
        "outputId": "716b7035-867a-4fbb-ad76-afcf1aeebfcc"
      },
      "execution_count": null,
      "outputs": [
        {
          "output_type": "stream",
          "name": "stdout",
          "text": [
            "[0, 1, 2, 3]\n"
          ]
        }
      ]
    },
    {
      "cell_type": "code",
      "source": [
        "for i in range(4):\n",
        "    print(\"Hola!\")"
      ],
      "metadata": {
        "colab": {
          "base_uri": "https://localhost:8080/"
        },
        "id": "mnU8xZ8wy9A5",
        "outputId": "e979bd12-4323-4d0b-bbbd-ea9d4ee9f0fe"
      },
      "execution_count": null,
      "outputs": [
        {
          "output_type": "stream",
          "name": "stdout",
          "text": [
            "Hola!\n",
            "Hola!\n",
            "Hola!\n",
            "Hola!\n"
          ]
        }
      ]
    },
    {
      "cell_type": "code",
      "source": [
        "for i in range(4): # i contiene el número de ciclo\n",
        "    print(i)"
      ],
      "metadata": {
        "colab": {
          "base_uri": "https://localhost:8080/"
        },
        "id": "UUkWsE9SBl9R",
        "outputId": "7f47675b-da90-4597-a8d1-7384cadc978f"
      },
      "execution_count": null,
      "outputs": [
        {
          "output_type": "stream",
          "name": "stdout",
          "text": [
            "0\n",
            "1\n",
            "2\n",
            "3\n"
          ]
        }
      ]
    },
    {
      "cell_type": "code",
      "source": [
        "# Si quisiera crear un programa para saber si 3 personas diferentes pueden obtener una beca, tendría que repetir mucho código.\n",
        "# Puedo utilizar la estructura FOR\n",
        "\n",
        "for i in range(3):\n",
        "    edad = int(input(\"Ingrese su edad: \"))\n",
        "    region = input(\"Ingrese su región (Norte/Sur/Este/Oeste): \")\n",
        "\n",
        "    resultado = (edad >= 18 and edad < 30) or (region == \"Norte\")\n",
        "\n",
        "    if resultado:\n",
        "      print(\"Felicitaciones! Ganaste la beca!\")\n",
        "    else:\n",
        "      print(\"No cumple con los requisitos :(\")\n",
        "    print()\n"
      ],
      "metadata": {
        "colab": {
          "base_uri": "https://localhost:8080/"
        },
        "id": "bap7r-s8CfvK",
        "outputId": "f42827c5-43e7-43f3-9ae9-57a8ccde3e93"
      },
      "execution_count": null,
      "outputs": [
        {
          "output_type": "stream",
          "name": "stdout",
          "text": [
            "Ingrese su edad: 20\n",
            "Ingrese su región (Norte/Sur/Este/Oeste): Norte\n",
            "Felicitaciones! Ganaste la beca!\n",
            "\n",
            "Ingrese su edad: 90\n",
            "Ingrese su región (Norte/Sur/Este/Oeste): Oeste\n",
            "No cumple con los requisitos :(\n",
            "\n",
            "Ingrese su edad: 78\n",
            "Ingrese su región (Norte/Sur/Este/Oeste): Norte\n",
            "Felicitaciones! Ganaste la beca!\n",
            "\n"
          ]
        }
      ]
    },
    {
      "cell_type": "code",
      "source": [
        "for letra in \"Juan\":\n",
        "  print(letra)"
      ],
      "metadata": {
        "colab": {
          "base_uri": "https://localhost:8080/"
        },
        "id": "nlT3pp8iC4kn",
        "outputId": "e83214b7-8080-48be-de49-f0454aaa2161"
      },
      "execution_count": null,
      "outputs": [
        {
          "output_type": "stream",
          "name": "stdout",
          "text": [
            "J\n",
            "u\n",
            "a\n",
            "n\n"
          ]
        }
      ]
    },
    {
      "cell_type": "code",
      "source": [
        "for i in [0, 1, 2, 3]:\n",
        "  print(i)"
      ],
      "metadata": {
        "colab": {
          "base_uri": "https://localhost:8080/"
        },
        "id": "R0oDNMjDKNmG",
        "outputId": "61bcf71f-9257-4bf2-e1b0-cb7498659103"
      },
      "execution_count": null,
      "outputs": [
        {
          "output_type": "stream",
          "name": "stdout",
          "text": [
            "0\n",
            "1\n",
            "2\n",
            "3\n"
          ]
        }
      ]
    },
    {
      "cell_type": "code",
      "source": [
        "for i in [\"hola\", 1, 2, \"ATGCATGCCCCAAA\"]: # los ciclos son la cantidad de elementos que haya\n",
        "  print(i)"
      ],
      "metadata": {
        "colab": {
          "base_uri": "https://localhost:8080/"
        },
        "id": "6Y1e5UBZKk3E",
        "outputId": "b1a74b31-ef04-4868-a02c-983ab571a35d"
      },
      "execution_count": null,
      "outputs": [
        {
          "output_type": "stream",
          "name": "stdout",
          "text": [
            "hola\n",
            "1\n",
            "2\n",
            "ATGCATGCCCCAAA\n"
          ]
        }
      ]
    },
    {
      "cell_type": "markdown",
      "source": [
        "# **Manipulación de Cadenas**"
      ],
      "metadata": {
        "id": "W4TzQno9GdE0"
      }
    },
    {
      "cell_type": "markdown",
      "source": [
        "**len(cadena)**"
      ],
      "metadata": {
        "id": "0QEVvCySGhYs"
      }
    },
    {
      "cell_type": "code",
      "source": [
        "sec_1 = \"GATGGACATCGACCGATATGCCGTGTACTAA\"\n",
        "longitud_sec = len(sec_1)\n",
        "print(\"La secuencia tiene\", longitud_sec, \"nt\")"
      ],
      "metadata": {
        "colab": {
          "base_uri": "https://localhost:8080/"
        },
        "id": "ciOVw81IGjEM",
        "outputId": "52fd34a3-5c0f-468d-daf6-69b85ef6d71f"
      },
      "execution_count": null,
      "outputs": [
        {
          "output_type": "stream",
          "name": "stdout",
          "text": [
            "La secuencia tiene 31 nt\n"
          ]
        }
      ]
    },
    {
      "cell_type": "code",
      "source": [
        "sec_1 = \"GATGGACATCGACCGATATGCCGTGTACTAA\"\n",
        "sec_2 = \"ACAGAAAGTTAATGGATGGACATAAAAATCA\"\n",
        "\n",
        "if len(sec_1) == len(sec_2):\n",
        "  print(\"Las secuencias tienen la misma cantidad de nt\")\n",
        "else:\n",
        "  print(\"Tienen diferente número de nt\")"
      ],
      "metadata": {
        "colab": {
          "base_uri": "https://localhost:8080/"
        },
        "id": "398jBuj8GndM",
        "outputId": "c1114b38-7ed9-4f89-c294-53ced666e09c"
      },
      "execution_count": null,
      "outputs": [
        {
          "output_type": "stream",
          "name": "stdout",
          "text": [
            "Las secuencias tienen la misma cantidad de nt\n"
          ]
        }
      ]
    },
    {
      "cell_type": "markdown",
      "source": [
        "cadena.**count**(....)"
      ],
      "metadata": {
        "id": "CU7svknWI3gG"
      }
    },
    {
      "cell_type": "code",
      "source": [
        "sec_1 = \"GATGGACATCGACCGATATGCCGTGTACTAA\"\n",
        "\n",
        "cant_G = sec_1.count('G')\n",
        "cant_C = sec_1.count('C')\n",
        "cant_CG = sec_1.count('CG')\n",
        "\n",
        "print(\"El contenido de G es:\", cant_G)\n",
        "print(\"El contenido de C es:\", cant_C)\n",
        "print(\"El contenido de CG es:\", cant_CG)"
      ],
      "metadata": {
        "colab": {
          "base_uri": "https://localhost:8080/"
        },
        "id": "BSxD-_OCHUOL",
        "outputId": "d405e9b3-d270-47c7-c460-b3706ab4bd84"
      },
      "execution_count": null,
      "outputs": [
        {
          "output_type": "stream",
          "name": "stdout",
          "text": [
            "El contenido de G es: 8\n",
            "El contenido de C es: 7\n",
            "El contenido de CG es: 3\n"
          ]
        }
      ]
    },
    {
      "cell_type": "markdown",
      "source": [
        "cadena.**replace**(... , ...)"
      ],
      "metadata": {
        "id": "FXm5leoJJDw8"
      }
    },
    {
      "cell_type": "code",
      "source": [
        "sec_1 = \"GATGGACATCGACCGATATGCCGTGTACTAA\"\n",
        "\n",
        "seq_remplazada = sec_1.replace('T','U')\n",
        "\n",
        "print(seq_remplazada)"
      ],
      "metadata": {
        "colab": {
          "base_uri": "https://localhost:8080/"
        },
        "id": "Tv5ND7kWHnjR",
        "outputId": "7b81ef00-7431-438a-eff4-6a6c35132291"
      },
      "execution_count": null,
      "outputs": [
        {
          "output_type": "stream",
          "name": "stdout",
          "text": [
            "GAUGGACAUCGACCGAUAUGCCGUGUACUAA\n"
          ]
        }
      ]
    },
    {
      "cell_type": "markdown",
      "source": [
        "# **Extra:** FOR iterando sobre elementos"
      ],
      "metadata": {
        "id": "oB_c2OIQJXf1"
      }
    },
    {
      "cell_type": "code",
      "source": [
        "seq_1 = \"GATGGACATCGACCGATATGCCGTGTACTAA\"\n",
        "seq_2 = \"ACAGAAAGTTAATGGAAGGACATAAAAATCA\"\n",
        "seq_3 = \"GAGGCTCGGATGGGTGGTACTTGCAATGCGC\"\n",
        "\n",
        "for i in [seq_1, seq_2, seq_3]:\n",
        "  cant_CG = i.count('CG')\n",
        "  print(\"El contenido de CG es:\", cant_CG)"
      ],
      "metadata": {
        "colab": {
          "base_uri": "https://localhost:8080/"
        },
        "id": "63EDrn0NJdhO",
        "outputId": "de97171d-0722-49e2-b462-cdff1d23f6a1"
      },
      "execution_count": null,
      "outputs": [
        {
          "output_type": "stream",
          "name": "stdout",
          "text": [
            "El contenido de CG es: 3\n",
            "El contenido de CG es: 0\n",
            "El contenido de CG es: 2\n"
          ]
        }
      ]
    }
  ]
}